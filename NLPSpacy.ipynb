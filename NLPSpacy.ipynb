{
 "cells": [
  {
   "cell_type": "code",
   "execution_count": 1,
   "id": "35694d7f-2540-4125-976b-89939047cfc1",
   "metadata": {},
   "outputs": [],
   "source": [
    "# book: https://spacy.pythonhumanities.com/intro.html\n",
    "import spacy"
   ]
  },
  {
   "cell_type": "code",
   "execution_count": 2,
   "id": "4abfae5e-fa2d-42cd-97b3-1cd4ee76185d",
   "metadata": {},
   "outputs": [],
   "source": [
    "nlp = spacy.load(\"en_core_web_sm\")"
   ]
  },
  {
   "cell_type": "code",
   "execution_count": 7,
   "id": "66302332-4a24-478a-bff4-fae9dd15e208",
   "metadata": {},
   "outputs": [],
   "source": [
    "with open(\"data/text/vivekananda.txt\") as f:\n",
    "    text = f.read()"
   ]
  },
  {
   "cell_type": "code",
   "execution_count": 8,
   "id": "2ef5b122-c064-4c38-a3b6-7600fab0da79",
   "metadata": {},
   "outputs": [],
   "source": [
    "doc = nlp(text)"
   ]
  },
  {
   "cell_type": "code",
   "execution_count": 11,
   "id": "a5599a0e-3454-4b7f-b056-e8a36999ee68",
   "metadata": {},
   "outputs": [
    {
     "name": "stdout",
     "output_type": "stream",
     "text": [
      "2221\n",
      "395\n"
     ]
    }
   ],
   "source": [
    "print(len(text)) # different length of text and doc\n",
    "print(len(doc))"
   ]
  },
  {
   "cell_type": "code",
   "execution_count": 17,
   "id": "276f3c68-eda5-4d80-8095-83dc4808fbbc",
   "metadata": {},
   "outputs": [
    {
     "name": "stdout",
     "output_type": "stream",
     "text": [
      "Born\n",
      "into\n",
      "an\n",
      "aristocratic\n",
      "Bengali\n",
      "Kayastha\n",
      "family\n",
      "of\n",
      "Calcutta\n",
      ",\n"
     ]
    }
   ],
   "source": [
    "# print first 10 tokens in doc\n",
    "for token in doc[:10]:\n",
    "    print(token)"
   ]
  },
  {
   "cell_type": "code",
   "execution_count": 18,
   "id": "48b5ca07-55aa-4167-8a5a-ff0afdb4bf7a",
   "metadata": {},
   "outputs": [
    {
     "name": "stdout",
     "output_type": "stream",
     "text": [
      "Born into an aristocratic Bengali Kayastha family of Calcutta, Vivekananda was inclined towards spirituality.\n",
      "He was influenced by his guru, Ramakrishna, from whom he learnt that all living beings were an embodiment of the divine self; therefore, service to God could be rendered by service to humankind.\n",
      "After Ramakrishna's death, Vivekananda toured the Indian subcontinent extensively and acquired first-hand knowledge of the conditions prevailing in British India.\n",
      "\n",
      "\n",
      "He later travelled to the United States, representing India at the 1893 Parliament of the World's Religions.\n",
      "Vivekananda conducted hundreds of public and private lectures and classes, disseminating tenets of Hindu philosophy in the United States, England and Europe.\n",
      "In India, Vivekananda is regarded as a patriotic saint, and his birthday is celebrated as National Youth Day.\n",
      "\n",
      "\n",
      "In 1871, at the age of eight, Narendranath enrolled at Ishwar Chandra Vidyasagar's Metropolitan Institution, where he went to school until his family moved to Raipur in 1877.[30]\n",
      "In 1879, after his family's return to Calcutta, he was the only student to receive first-division marks in the Presidency College entrance examination.\n",
      "[31] He was an avid reader in a wide range of subjects, including philosophy, religion, history, social science, art and literature.[32] \n",
      "\n",
      "He was also interested in Hindu scriptures, including the Vedas, the Upanishads, the Bhagavad Gita, the Ramayana, the Mahabharata and the Puranas.\n",
      "Narendra was trained in Indian classical music,[33] and regularly participated in physical exercise, sports and organised activities.\n",
      "Narendra studied Western logic, Western philosophy and European history at the General Assembly's Institution (now known as the Scottish Church College).[34]\n",
      "In 1881, he passed the Fine Arts examination, and completed a Bachelor of Arts degree in 1884.[35][36] \n",
      "\n",
      "Narendra studied the works of David Hume, Immanuel Kant, Johann Gottlieb Fichte, Baruch Spinoza, Georg W. F. Hegel, Arthur Schopenhauer, Auguste Comte, John Stuart Mill and Charles Darwin.[37][38]\n",
      "He became fascinated with the evolutionism of Herbert Spencer and corresponded with him,[39][40] translating Herbert Spencer's book Education (1861) into Bengali.\n"
     ]
    }
   ],
   "source": [
    "# print all sentences\n",
    "for sent in doc.sents:\n",
    "    print(sent)"
   ]
  },
  {
   "cell_type": "code",
   "execution_count": 20,
   "id": "2ee53782-2cbe-47a9-9301-e9a3065e8d19",
   "metadata": {},
   "outputs": [
    {
     "name": "stdout",
     "output_type": "stream",
     "text": [
      "Born into an aristocratic Bengali Kayastha family of Calcutta, Vivekananda was inclined towards spirituality.\n",
      "He was influenced by his guru, Ramakrishna, from whom he learnt that all living beings were an embodiment of the divine self; therefore, service to God could be rendered by service to humankind.\n"
     ]
    }
   ],
   "source": [
    "# doc.sents is not a list\n",
    "# doc.sents is a generator\n",
    "sentences = list(doc.sents)\n",
    "for sent in sentences[:2]:\n",
    "    print(sent)"
   ]
  },
  {
   "cell_type": "code",
   "execution_count": 29,
   "id": "14aea412-c489-4a1f-86d6-f655c33f2243",
   "metadata": {},
   "outputs": [
    {
     "name": "stdout",
     "output_type": "stream",
     "text": [
      "Bengali\n"
     ]
    }
   ],
   "source": [
    "token1 = sentences[0][4]\n",
    "print(token1)"
   ]
  },
  {
   "cell_type": "code",
   "execution_count": 30,
   "id": "91b9912d-2568-44ea-860e-ccca0c212378",
   "metadata": {},
   "outputs": [
    {
     "data": {
      "text/plain": [
       "'Bengali'"
      ]
     },
     "execution_count": 30,
     "metadata": {},
     "output_type": "execute_result"
    }
   ],
   "source": [
    "# each token has it's own metadata\n",
    "token1.text"
   ]
  },
  {
   "cell_type": "code",
   "execution_count": 31,
   "id": "7a99ba55-4cfe-4394-bb92-2dee5fb457a3",
   "metadata": {},
   "outputs": [
    {
     "data": {
      "text/plain": [
       "Bengali"
      ]
     },
     "execution_count": 31,
     "metadata": {},
     "output_type": "execute_result"
    }
   ],
   "source": [
    "token1.left_edge"
   ]
  },
  {
   "cell_type": "code",
   "execution_count": 35,
   "id": "d5cbad64-ce95-4bb6-9d65-470fd8b40e60",
   "metadata": {},
   "outputs": [
    {
     "data": {
      "text/plain": [
       "Bengali"
      ]
     },
     "execution_count": 35,
     "metadata": {},
     "output_type": "execute_result"
    }
   ],
   "source": [
    "token1.right_edge "
   ]
  },
  {
   "cell_type": "code",
   "execution_count": 36,
   "id": "83fe63fc-6667-4c43-84fb-99b6fd57947e",
   "metadata": {},
   "outputs": [
    {
     "data": {
      "text/plain": [
       "380"
      ]
     },
     "execution_count": 36,
     "metadata": {},
     "output_type": "execute_result"
    }
   ],
   "source": [
    "token1.ent_type # entity type (numeric)"
   ]
  },
  {
   "cell_type": "code",
   "execution_count": 37,
   "id": "c15a4cab-b2fd-4dba-a29f-b103b979805b",
   "metadata": {},
   "outputs": [
    {
     "data": {
      "text/plain": [
       "'PERSON'"
      ]
     },
     "execution_count": 37,
     "metadata": {},
     "output_type": "execute_result"
    }
   ],
   "source": [
    "token1.ent_type_ # entity type (string)"
   ]
  },
  {
   "cell_type": "code",
   "execution_count": null,
   "id": "a7712c7f-2865-483c-9b16-d1e563ff9fc1",
   "metadata": {},
   "outputs": [],
   "source": []
  }
 ],
 "metadata": {
  "kernelspec": {
   "display_name": "Python 3 (ipykernel)",
   "language": "python",
   "name": "python3"
  },
  "language_info": {
   "codemirror_mode": {
    "name": "ipython",
    "version": 3
   },
   "file_extension": ".py",
   "mimetype": "text/x-python",
   "name": "python",
   "nbconvert_exporter": "python",
   "pygments_lexer": "ipython3",
   "version": "3.8.5"
  }
 },
 "nbformat": 4,
 "nbformat_minor": 5
}
