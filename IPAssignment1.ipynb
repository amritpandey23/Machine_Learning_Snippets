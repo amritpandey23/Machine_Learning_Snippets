{
 "cells": [
  {
   "cell_type": "code",
   "execution_count": 76,
   "id": "3be3c2f1-2b44-4a8c-a2bf-b69cf8247e0a",
   "metadata": {},
   "outputs": [
    {
     "data": {
      "text/plain": [
       "<matplotlib.image.AxesImage at 0x19a1eac9d20>"
      ]
     },
     "execution_count": 76,
     "metadata": {},
     "output_type": "execute_result"
    },
    {
     "data": {
      "image/png": "[encoded data removed]",
      "text/plain": [
       "<Figure size 432x288 with 1 Axes>"
      ]
     },
     "metadata": {
      "needs_background": "light"
     },
     "output_type": "display_data"
    }
   ],
   "source": [
    "import numpy as np\n",
    "from numpy import random\n",
    "import matplotlib.pyplot as plt\n",
    "from PIL import Image as im\n",
    "import cv2 as cv\n",
    "\n",
    "with open(\"data/text/monalisa.txt\", \"r\") as file:\n",
    "    result = [[x for x in line.split()] for line in file]\n",
    "f = []\n",
    "for line in result:\n",
    "    data = [ord(x) for x in line[0].split()[0]]\n",
    "    f.append(data)\n",
    "\n",
    "f = np.array(f)\n",
    "f = np.rot90(f)\n",
    "f = np.rot90(f)\n",
    "f = np.rot90(f)\n",
    "img = im.fromarray(f)\n",
    "img = img.convert('L')\n",
    "\n",
    "plt.imshow(img, cmap='gray', vmin=0, vmax=255, interpolation='none')"
   ]
  },
  {
   "cell_type": "code",
   "execution_count": null,
   "id": "ab1a9beb-3068-4230-9a97-56768a864bf7",
   "metadata": {},
   "outputs": [],
   "source": []
  },
  {
   "cell_type": "code",
   "execution_count": null,
   "id": "f5c6dea7-9f2f-4be8-866c-90347e2a6206",
   "metadata": {},
   "outputs": [],
   "source": []
  }
 ],
 "metadata": {
  "kernelspec": {
   "display_name": "Python 3 (ipykernel)",
   "language": "python",
   "name": "python3"
  },
  "language_info": {
   "codemirror_mode": {
    "name": "ipython",
    "version": 3
   },
   "file_extension": ".py",
   "mimetype": "text/x-python",
   "name": "python",
   "nbconvert_exporter": "python",
   "pygments_lexer": "ipython3",
   "version": "3.10.1"
  }
 },
 "nbformat": 4,
 "nbformat_minor": 5
}
