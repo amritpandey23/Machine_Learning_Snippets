{
 "cells": [
  {
   "cell_type": "code",
   "execution_count": 1,
   "id": "61a72553-a422-4c17-b6e3-b8edb1d888cd",
   "metadata": {},
   "outputs": [
    {
     "name": "stdout",
     "output_type": "stream",
     "text": [
      "Requirement already satisfied: numpy in c:\\python310\\lib\\site-packages (1.22.1)\n"
     ]
    }
   ],
   "source": [
    "!pip install numpy"
   ]
  },
  {
   "cell_type": "code",
   "execution_count": 2,
   "id": "6898131b-3c01-48e5-879d-12eb42cd0765",
   "metadata": {},
   "outputs": [],
   "source": [
    "import numpy as np"
   ]
  },
  {
   "cell_type": "code",
   "execution_count": 3,
   "id": "890234b7-8d16-4553-8459-c514e6564171",
   "metadata": {
    "tags": []
   },
   "outputs": [],
   "source": [
    "dataset = np.array([[1, 1837], [2, 1318], [3, 2941], [4, 2357], [5, 3388]])"
   ]
  },
  {
   "cell_type": "code",
   "execution_count": 4,
   "id": "cfee2f5a-be7c-4354-bfab-a9df54ab21bf",
   "metadata": {},
   "outputs": [],
   "source": [
    "from sklearn.cluster import KMeans"
   ]
  },
  {
   "cell_type": "code",
   "execution_count": 5,
   "id": "58ae0916-ca7a-49fb-88c0-507a28d554d0",
   "metadata": {},
   "outputs": [],
   "source": [
    "kmeans = KMeans(n_clusters=2).fit(dataset)"
   ]
  },
  {
   "cell_type": "code",
   "execution_count": 6,
   "id": "ec4a399a-fe0e-47e8-830a-520cc2f52cc7",
   "metadata": {},
   "outputs": [
    {
     "name": "stdout",
     "output_type": "stream",
     "text": [
      "[1 1 0 1 0]\n"
     ]
    }
   ],
   "source": [
    "print(kmeans.labels_)"
   ]
  },
  {
   "cell_type": "code",
   "execution_count": 7,
   "id": "5e8ae82f-ddce-4e02-8bd8-fc07823b45bd",
   "metadata": {},
   "outputs": [
    {
     "name": "stdout",
     "output_type": "stream",
     "text": [
      "[[4.00000000e+00 3.16450000e+03]\n",
      " [2.33333333e+00 1.83733333e+03]]\n"
     ]
    }
   ],
   "source": [
    "print(kmeans.cluster_centers_)"
   ]
  },
  {
   "cell_type": "code",
   "execution_count": null,
   "id": "428840d9-c261-48db-9472-536c35f967fe",
   "metadata": {},
   "outputs": [],
   "source": []
  }
 ],
 "metadata": {
  "kernelspec": {
   "display_name": "Python 3 (ipykernel)",
   "language": "python",
   "name": "python3"
  },
  "language_info": {
   "codemirror_mode": {
    "name": "ipython",
    "version": 3
   },
   "file_extension": ".py",
   "mimetype": "text/x-python",
   "name": "python",
   "nbconvert_exporter": "python",
   "pygments_lexer": "ipython3",
   "version": "3.10.1"
  }
 },
 "nbformat": 4,
 "nbformat_minor": 5
}
