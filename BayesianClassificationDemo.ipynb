{
 "cells": [
  {
   "cell_type": "code",
   "execution_count": 2,
   "id": "d7300859-70fc-4cda-babc-752fd5a6bdd2",
   "metadata": {},
   "outputs": [],
   "source": [
    "outlook = [\"sunny\", \"sunny\", \"overcast\", \"rain\", \"rain\", \"rain\", \"overcast\", \"sunny\", \"sunny\", \"rain\", \"sunny\", \"overcast\", \"overcast\", \"rain\"]"
   ]
  },
  {
   "cell_type": "code",
   "execution_count": 3,
   "id": "8050ce52-bf1d-45b3-a464-c688949775b7",
   "metadata": {},
   "outputs": [],
   "source": [
    "temperature = [\"hot\", \"hot\", \"hot\", \"mild\", \"cool\", \"cool\", \"cool\", \"mild\", \"cool\", \"mild\", \"mild\", \"mild\", \"hot\", \"mild\"]"
   ]
  },
  {
   "cell_type": "code",
   "execution_count": 4,
   "id": "62a93f8f-30c3-4af0-a849-4f63213ba201",
   "metadata": {},
   "outputs": [],
   "source": [
    "humidity = [\"high\", \"high\", \"high\", \"high\", \"normal\", \"normal\", \"normal\", \"high\", \"normal\", \"normal\", \"normal\", \"high\", \"normal\", \"high\"]"
   ]
  },
  {
   "cell_type": "code",
   "execution_count": 5,
   "id": "89edc11c-8136-4d04-94b1-cb1a5713ab0f",
   "metadata": {},
   "outputs": [],
   "source": [
    "wind = [\"weak\", \"strong\", \"weak\", \"weak\", \"weak\", \"strong\", \"strong\", \"weak\", \"weak\", \"weak\", \"strong\", \"strong\", \"weak\", \"strong\"]"
   ]
  },
  {
   "cell_type": "code",
   "execution_count": 7,
   "id": "88ef395e-948f-4a9f-9d13-f9508fe5e76c",
   "metadata": {},
   "outputs": [],
   "source": [
    "play_tenis = [\"no\", \"no\", \"yes\", \"yes\", \"yes\", \"no\", \"yes\", \"no\", \"yes\", \"yes\", \"yes\", \"yes\", \"yes\", \"no\"]"
   ]
  },
  {
   "cell_type": "code",
   "execution_count": 14,
   "id": "dc754e53-e6b1-42dd-94e5-db98cee239f4",
   "metadata": {},
   "outputs": [],
   "source": [
    "from sklearn import preprocessing"
   ]
  },
  {
   "cell_type": "code",
   "execution_count": 15,
   "id": "e749c578-f177-4ea2-87a8-9fc4d903443e",
   "metadata": {},
   "outputs": [],
   "source": [
    "le = preprocessing.LabelEncoder()"
   ]
  },
  {
   "cell_type": "code",
   "execution_count": 34,
   "id": "3a6d73a8-946a-4ee5-bb73-6d2d8f8e6001",
   "metadata": {},
   "outputs": [
    {
     "name": "stdout",
     "output_type": "stream",
     "text": [
      "[2 2 0 1 1 1 0 2 2 1 2 0 0 1]\n"
     ]
    }
   ],
   "source": [
    "weather_encoded=le.fit_transform(outlook)\n",
    "print(weather_encoded)"
   ]
  },
  {
   "cell_type": "code",
   "execution_count": 30,
   "id": "90c96bd5-e84e-45e0-bbb9-6347ac550031",
   "metadata": {},
   "outputs": [
    {
     "name": "stdout",
     "output_type": "stream",
     "text": [
      "[1 1 1 2 0 0 0 2 0 2 2 2 1 2]\n"
     ]
    }
   ],
   "source": [
    "temp_encoded = le.fit_transform(temperature)\n",
    "print(temp_encoded)"
   ]
  },
  {
   "cell_type": "code",
   "execution_count": 33,
   "id": "07255cee-3173-4c9b-a786-8bba99a4ab30",
   "metadata": {},
   "outputs": [
    {
     "name": "stdout",
     "output_type": "stream",
     "text": [
      "[0 0 1 1 1 0 1 0 1 1 1 1 1 0]\n"
     ]
    }
   ],
   "source": [
    "labels=le.fit_transform(play_tenis)\n",
    "print(labels)"
   ]
  },
  {
   "cell_type": "code",
   "execution_count": 35,
   "id": "40daea4c-8a39-4620-8e59-8688d1912761",
   "metadata": {},
   "outputs": [
    {
     "name": "stdout",
     "output_type": "stream",
     "text": [
      "[(2, 1), (2, 1), (0, 1), (1, 2), (1, 0), (1, 0), (0, 0), (2, 2), (2, 0), (1, 2), (2, 2), (0, 2), (0, 1), (1, 2)]\n"
     ]
    }
   ],
   "source": [
    "features=list(zip(weather_encoded, temp_encoded))\n",
    "print(features)"
   ]
  },
  {
   "cell_type": "code",
   "execution_count": 23,
   "id": "5f254dbb-1574-4d2c-b1a5-446e6be02b86",
   "metadata": {},
   "outputs": [],
   "source": [
    "from sklearn.naive_bayes import GaussianNB"
   ]
  },
  {
   "cell_type": "code",
   "execution_count": 24,
   "id": "8bd42591-fb0f-4142-a52e-45d11f5f9034",
   "metadata": {},
   "outputs": [],
   "source": [
    "model = GaussianNB()"
   ]
  },
  {
   "cell_type": "code",
   "execution_count": 25,
   "id": "3f2419ab-890b-405e-8e86-8ab812b007af",
   "metadata": {},
   "outputs": [
    {
     "data": {
      "text/plain": [
       "GaussianNB()"
      ]
     },
     "execution_count": 25,
     "metadata": {},
     "output_type": "execute_result"
    }
   ],
   "source": [
    "model.fit(features, labels)"
   ]
  },
  {
   "cell_type": "code",
   "execution_count": 31,
   "id": "a33c2394-830f-4ed1-b9d6-2e696e2878f1",
   "metadata": {},
   "outputs": [],
   "source": [
    "predicted = model.predict([[1,2]]) # weather=rain, temp=mild"
   ]
  },
  {
   "cell_type": "code",
   "execution_count": 32,
   "id": "39bb135f-bb96-43af-a4a7-00971957cb0a",
   "metadata": {},
   "outputs": [
    {
     "name": "stdout",
     "output_type": "stream",
     "text": [
      "[1]\n"
     ]
    }
   ],
   "source": [
    "print(predicted)"
   ]
  },
  {
   "cell_type": "code",
   "execution_count": 36,
   "id": "ae4e3c8e-736b-4729-ad68-d6a984cdd2fa",
   "metadata": {},
   "outputs": [
    {
     "name": "stdout",
     "output_type": "stream",
     "text": [
      "[0 0 0 0 1 1 1 0 1 1 1 0 1 0]\n"
     ]
    }
   ],
   "source": [
    "humidity_encoded=le.fit_transform(humidity)\n",
    "print(humidity_encoded)"
   ]
  },
  {
   "cell_type": "code",
   "execution_count": 37,
   "id": "40e1e8f2-258c-481c-88be-449ec7716adb",
   "metadata": {},
   "outputs": [
    {
     "name": "stdout",
     "output_type": "stream",
     "text": [
      "[1 0 1 1 1 0 0 1 1 1 0 0 1 0]\n"
     ]
    }
   ],
   "source": [
    "wind_encoded = le.fit_transform(wind)\n",
    "print(wind_encoded)"
   ]
  },
  {
   "cell_type": "code",
   "execution_count": 38,
   "id": "8b6e592f-df24-4710-aaeb-f77ff546bce0",
   "metadata": {},
   "outputs": [],
   "source": [
    "features2=list(zip(weather_encoded, temp_encoded, wind_encoded, humidity_encoded))"
   ]
  },
  {
   "cell_type": "code",
   "execution_count": 39,
   "id": "5155330d-3c78-44c8-9eaa-de96c006780d",
   "metadata": {},
   "outputs": [],
   "source": [
    "model2 = GaussianNB()"
   ]
  },
  {
   "cell_type": "code",
   "execution_count": 40,
   "id": "c6c4f64e-e75e-4e70-b425-20fad746abb7",
   "metadata": {},
   "outputs": [
    {
     "data": {
      "text/plain": [
       "GaussianNB()"
      ]
     },
     "execution_count": 40,
     "metadata": {},
     "output_type": "execute_result"
    }
   ],
   "source": [
    "model2.fit(features2, labels)"
   ]
  },
  {
   "cell_type": "code",
   "execution_count": 42,
   "id": "f8104655-a8c8-457c-b3fd-794735255792",
   "metadata": {},
   "outputs": [
    {
     "name": "stdout",
     "output_type": "stream",
     "text": [
      "[1]\n"
     ]
    }
   ],
   "source": [
    "print(model2.predict([[0,0,0,0]])) # weather:overcast, temp: cool, wind: strong, humidity:high"
   ]
  },
  {
   "cell_type": "code",
   "execution_count": null,
   "id": "fb0aa76b-d5df-4e1e-8a8e-992b986649bc",
   "metadata": {},
   "outputs": [],
   "source": []
  }
 ],
 "metadata": {
  "kernelspec": {
   "display_name": "Python 3 (ipykernel)",
   "language": "python",
   "name": "python3"
  },
  "language_info": {
   "codemirror_mode": {
    "name": "ipython",
    "version": 3
   },
   "file_extension": ".py",
   "mimetype": "text/x-python",
   "name": "python",
   "nbconvert_exporter": "python",
   "pygments_lexer": "ipython3",
   "version": "3.10.1"
  }
 },
 "nbformat": 4,
 "nbformat_minor": 5
}
